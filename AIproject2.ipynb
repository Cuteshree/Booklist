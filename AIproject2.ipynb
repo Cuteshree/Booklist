{
  "nbformat": 4,
  "nbformat_minor": 0,
  "metadata": {
    "colab": {
      "provenance": [],
      "authorship_tag": "ABX9TyPcw03AzwABUe6INaLibyIL",
      "include_colab_link": true
    },
    "kernelspec": {
      "name": "python3",
      "display_name": "Python 3"
    },
    "language_info": {
      "name": "python"
    }
  },
  "cells": [
    {
      "cell_type": "markdown",
      "metadata": {
        "id": "view-in-github",
        "colab_type": "text"
      },
      "source": [
        "<a href=\"https://colab.research.google.com/github/Cuteshree/Booklist/blob/main/AIproject2.ipynb\" target=\"_parent\"><img src=\"https://colab.research.google.com/assets/colab-badge.svg\" alt=\"Open In Colab\"/></a>"
      ]
    },
    {
      "cell_type": "code",
      "execution_count": null,
      "metadata": {
        "colab": {
          "base_uri": "https://localhost:8080/"
        },
        "id": "F0SdKZl8Xw6z",
        "outputId": "aa50fc29-9dda-48aa-e6d7-d20571afc984"
      },
      "outputs": [
        {
          "output_type": "stream",
          "name": "stdout",
          "text": [
            "5 3 4  | 6 7 8  | 9 1 2\n",
            "6 7 2  | 1 9 5  | 3 4 8\n",
            "1 9 8  | 3 4 2  | 5 6 7\n",
            "- - - - - - - - - - - - - \n",
            "8 5 9  | 7 6 1  | 4 2 3\n",
            "4 2 6  | 8 5 3  | 7 9 1\n",
            "7 1 3  | 9 2 4  | 8 5 6\n",
            "- - - - - - - - - - - - - \n",
            "9 6 1  | 5 3 7  | 2 8 4\n",
            "2 8 7  | 4 1 9  | 6 3 5\n",
            "3 4 5  | 2 8 6  | 1 7 9\n"
          ]
        }
      ],
      "source": [
        "def print_board(board):\n",
        "    for i in range(9):\n",
        "        if i % 3 == 0 and i != 0:\n",
        "            print(\"- - - - - - - - - - - - - \")\n",
        "\n",
        "        for j in range(9):\n",
        "            if j % 3 == 0 and j != 0:\n",
        "                print(\" | \", end=\"\")\n",
        "\n",
        "            if j == 8:\n",
        "                print(board[i][j])\n",
        "            else:\n",
        "                print(str(board[i][j]) + \" \", end=\"\")\n",
        "\n",
        "\n",
        "def find_empty_location(board, l):\n",
        "    for row in range(9):\n",
        "        for col in range(9):\n",
        "            if board[row][col] == 0:\n",
        "                l[0] = row\n",
        "                l[1] = col\n",
        "                return True\n",
        "    return False\n",
        "\n",
        "\n",
        "def used_in_row(board, row, num):\n",
        "    for i in range(9):\n",
        "        if board[row][i] == num:\n",
        "            return True\n",
        "    return False\n",
        "\n",
        "\n",
        "def used_in_col(board, col, num):\n",
        "    for i in range(9):\n",
        "        if board[i][col] == num:\n",
        "            return True\n",
        "    return False\n",
        "\n",
        "\n",
        "def used_in_box(board, row, col, num):\n",
        "    for i in range(3):\n",
        "        for j in range(3):\n",
        "            if board[i + row][j + col] == num:\n",
        "                return True\n",
        "    return False\n",
        "\n",
        "\n",
        "def is_safe(board, row, col, num):\n",
        "    return not used_in_row(board, row, num) and not used_in_col(board, col, num) and not used_in_box(board, row - row % 3, col - col % 3, num)\n",
        "\n",
        "\n",
        "def solve_sudoku(board):\n",
        "    l = [0, 0]\n",
        "\n",
        "    if not find_empty_location(board, l):\n",
        "        return True\n",
        "\n",
        "    row = l[0]\n",
        "    col = l[1]\n",
        "\n",
        "    for num in range(1, 10):\n",
        "        if is_safe(board, row, col, num):\n",
        "            board[row][col] = num\n",
        "\n",
        "            if solve_sudoku(board):\n",
        "                return True\n",
        "\n",
        "            board[row][col] = 0\n",
        "\n",
        "    return False\n",
        "\n",
        "\n",
        "# Example Sudoku board (0 represents empty cells)\n",
        "board = [\n",
        "    [5, 3, 0, 0, 7, 0, 0, 0, 0],\n",
        "    [6, 0, 0, 1, 9, 5, 0, 0, 0],\n",
        "    [0, 9, 8, 0, 0, 0, 0, 6, 0],\n",
        "    [8, 0, 0, 0, 6, 0, 0, 0, 3],\n",
        "    [4, 0, 0, 8, 0, 3, 0, 0, 1],\n",
        "    [7, 0, 0, 0, 2, 0, 0, 0, 6],\n",
        "    [0, 6, 0, 0, 0, 0, 2, 8, 0],\n",
        "    [0, 0, 0, 4, 1, 9, 0, 0, 5],\n",
        "    [0, 0, 0, 0, 8, 0, 0, 7, 9]\n",
        "]\n",
        "\n",
        "if solve_sudoku(board):\n",
        "    print_board(board)\n",
        "else:\n",
        "    print(\"No solution exists\")\n"
      ]
    }
  ]
}